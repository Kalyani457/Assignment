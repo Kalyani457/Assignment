{
 "cells": [
  {
   "cell_type": "code",
   "execution_count": 1,
   "metadata": {},
   "outputs": [
    {
     "name": "stdout",
     "output_type": "stream",
     "text": [
      "\n",
      "* \n",
      "* * \n",
      "* * * \n",
      "* * * * \n",
      "* * * * * \n",
      "* * * * \n",
      "* * * \n",
      "* * \n",
      "* \n"
     ]
    }
   ],
   "source": [
    "'''1. Create the below pattern using nested for loop in Python.\n",
    "*\n",
    "* *\n",
    "* * *\n",
    "* * * *\n",
    "* * * * *\n",
    "* * * *\n",
    "* * *\n",
    "* *\n",
    "*'''\n",
    "\n",
    "n = 5\n",
    "for i in range(n):\n",
    "    for j in range(i):\n",
    "        print('*', end = ' ')\n",
    "    print('')\n",
    "\n",
    "for i in range(n, 0, -1):\n",
    "    for j in range(i):\n",
    "        print('*', end = ' ')\n",
    "    print('')\n",
    "        "
   ]
  },
  {
   "cell_type": "code",
   "execution_count": 3,
   "metadata": {},
   "outputs": [
    {
     "name": "stdout",
     "output_type": "stream",
     "text": [
      "Enter any word: london\n",
      "nodnol"
     ]
    }
   ],
   "source": [
    "'''2. Write a Python program to reverse a word after accepting the input from the user.\n",
    "Sample Outputt\n",
    "Input word: ineuron\n",
    "Output: norueni'''\n",
    "\n",
    "x = input(\"Enter any word: \")\n",
    "for i in range(len(x)-1, -1, -1):\n",
    "    print(x[i], end = \"\")"
   ]
  },
  {
   "cell_type": "code",
   "execution_count": null,
   "metadata": {},
   "outputs": [],
   "source": []
  }
 ],
 "metadata": {
  "kernelspec": {
   "display_name": "Python 3",
   "language": "python",
   "name": "python3"
  },
  "language_info": {
   "codemirror_mode": {
    "name": "ipython",
    "version": 3
   },
   "file_extension": ".py",
   "mimetype": "text/x-python",
   "name": "python",
   "nbconvert_exporter": "python",
   "pygments_lexer": "ipython3",
   "version": "3.8.3"
  }
 },
 "nbformat": 4,
 "nbformat_minor": 4
}
