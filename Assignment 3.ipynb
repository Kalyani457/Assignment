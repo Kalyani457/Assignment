{
 "cells": [
  {
   "cell_type": "code",
   "execution_count": 6,
   "metadata": {},
   "outputs": [
    {
     "name": "stdout",
     "output_type": "stream",
     "text": [
      "abcdefghi\n"
     ]
    }
   ],
   "source": [
    "'''Write a Python Program to implement your own myreduce() function which works exactly\n",
    "like Python's built-in function reduce()'''\n",
    "\n",
    "# def myreduce(lst):\n",
    "    \n",
    "#     x = 0\n",
    "#     for i in lst:\n",
    "#         x += i\n",
    "#     return x\n",
    "\n",
    "# lst = [1, 2, 3, 4, 5, 6]\n",
    "# print(myreduce(lst))\n",
    "\n",
    "def myreduce(lst):\n",
    "    \n",
    "    x = \"\"\n",
    "    for i in lst:\n",
    "        x += i\n",
    "    return x\n",
    "\n",
    "lst = ['abc', 'def', 'ghi']\n",
    "print(myreduce(lst))\n"
   ]
  },
  {
   "cell_type": "code",
   "execution_count": 3,
   "metadata": {},
   "outputs": [
    {
     "data": {
      "text/plain": [
       "'abcdefghi'"
      ]
     },
     "execution_count": 3,
     "metadata": {},
     "output_type": "execute_result"
    }
   ],
   "source": [
    "from functools import reduce\n",
    "# lst =[1, 2, 3, 4, 5, 6]\n",
    "# reduce(lambda a,b: a+b,lst)\n",
    "\n",
    "lst = ['abc', 'def', 'ghi']\n",
    "reduce(lambda a,b: a+b, lst)"
   ]
  },
  {
   "cell_type": "code",
   "execution_count": 15,
   "metadata": {},
   "outputs": [
    {
     "name": "stdout",
     "output_type": "stream",
     "text": [
      "[18, 24, 32]\n"
     ]
    }
   ],
   "source": [
    "'''Write a Python program to implement your own myfilter() function which works exactly\n",
    "like Python's built-in function filter()'''\n",
    "\n",
    "#Filter the array, and return a new array with only the values equal to or above 18\n",
    "\n",
    "def myfilter(x):\n",
    "    \n",
    "    y = []\n",
    "    for i in x:\n",
    "        if i >= 18:\n",
    "            y.append(i)        \n",
    "    return y\n",
    "\n",
    "x = [5, 12, 17, 18, 24, 32]\n",
    "print(myfilter(x))"
   ]
  },
  {
   "cell_type": "code",
   "execution_count": 16,
   "metadata": {},
   "outputs": [
    {
     "data": {
      "text/plain": [
       "[18, 24, 32]"
      ]
     },
     "execution_count": 16,
     "metadata": {},
     "output_type": "execute_result"
    }
   ],
   "source": [
    "lst = [5, 12, 17, 18, 24, 32]\n",
    "\n",
    "list(filter(lambda x: x >= 18, lst))"
   ]
  },
  {
   "cell_type": "code",
   "execution_count": null,
   "metadata": {},
   "outputs": [],
   "source": [
    "'''Implement List comprehensions to produce the following lists.\n",
    "Write List comprehensions to produce the following Lists\n",
    "\n",
    "['x', 'xx', 'xxx', 'xxxx', 'y', 'yy', 'yyy', 'yyyy', 'z', 'zz', 'zzz', 'zzzz']\n",
    "['x', 'y', 'z', 'xx', 'yy', 'zz', 'xxx', 'yyy', 'zzz', 'xxxx', 'yyyy', 'zzzz']\n",
    "[[2], [3], [4], [3], [4], [5], [4], [5], [6]] [[2, 3, 4, 5], [3, 4, 5, 6],\n",
    "[4, 5, 6, 7], [5, 6, 7, 8]]\n",
    "[(1, 1), (2, 1), (3, 1), (1, 2), (2, 2), (3, 2), (1, 3), (2, 3), (3, 3)]'''"
   ]
  },
  {
   "cell_type": "code",
   "execution_count": 5,
   "metadata": {},
   "outputs": [
    {
     "name": "stdout",
     "output_type": "stream",
     "text": [
      "['x', 'xx', 'xxx', 'xxxx', 'y', 'yy', 'yyy', 'yyyy', 'z', 'zz', 'zzz', 'zzzz']\n"
     ]
    }
   ],
   "source": [
    "'''['x', 'xx', 'xxx', 'xxxx', 'y', 'yy', 'yyy', 'yyyy', 'z', 'zz', 'zzz', 'zzzz']'''\n",
    "\n",
    "# lst = ['x', 'y', 'z']\n",
    "# m = [1, 2, 3, 4]\n",
    "# a = [i*j for i in lst for j in m]\n",
    "# print(a)\n",
    "\n",
    "lst = list('xyz')\n",
    "a = []\n",
    "[a.append(lst[i]*j) for i in range(len(lst)) for j in range(1, 5)]\n",
    "print(a)"
   ]
  },
  {
   "cell_type": "code",
   "execution_count": 7,
   "metadata": {},
   "outputs": [
    {
     "name": "stdout",
     "output_type": "stream",
     "text": [
      "['x', 'y', 'z', 'xx', 'yy', 'zz', 'xxx', 'yyy', 'zzz', 'xxxx', 'yyyy', 'zzzz']\n"
     ]
    }
   ],
   "source": [
    "'''['x', 'y', 'z', 'xx', 'yy', 'zz', 'xxx', 'yyy', 'zzz', 'xxxx', 'yyyy', 'zzzz']'''\n",
    "\n",
    "# lst = ['x', 'y', 'z']\n",
    "# m = [1, 2, 3, 4]\n",
    "# f = [i*j for i in m for j in lst]\n",
    "# print(f)\n",
    "k\n",
    "lst = list('xyz')\n",
    "f = []\n",
    "[f.append(i*lst[j]) for i in range(1, 5) for j in range(len(lst))]\n",
    "print(f)"
   ]
  },
  {
   "cell_type": "code",
   "execution_count": 29,
   "metadata": {},
   "outputs": [
    {
     "name": "stdout",
     "output_type": "stream",
     "text": [
      "[[2], [3], [4], [3], [4], [5], [4], [5], [6]]\n"
     ]
    }
   ],
   "source": [
    "'''[[2], [3], [4], [3], [4], [5], [4], [5], [6]]'''\n",
    "\n",
    "lst = [2, 3, 4]\n",
    "output = [[i+j] for i in lst for j in range(3)]\n",
    "print(output)\n"
   ]
  },
  {
   "cell_type": "code",
   "execution_count": 39,
   "metadata": {},
   "outputs": [
    {
     "name": "stdout",
     "output_type": "stream",
     "text": [
      "[[2, 3, 4, 5], [3, 4, 5, 6], [4, 5, 6, 7], [5, 6, 7, 8]]\n"
     ]
    }
   ],
   "source": [
    "'''[[2, 3, 4, 5], [3, 4, 5, 6], [4, 5, 6, 7], [5, 6, 7, 8]]'''\n",
    "\n",
    "lst = [2, 3, 4, 5]\n",
    "output = [[i+j for i in range(4)] for j in lst]\n",
    "print(output)"
   ]
  },
  {
   "cell_type": "code",
   "execution_count": 23,
   "metadata": {},
   "outputs": [
    {
     "name": "stdout",
     "output_type": "stream",
     "text": [
      "[(1, 1), (2, 1), (3, 1), (1, 2), (2, 2), (3, 2), (1, 3), (2, 3), (3, 3)]\n"
     ]
    }
   ],
   "source": [
    "'''[(1, 1), (2, 1), (3, 1), (1, 2), (2, 2), (3, 2), (1, 3), (2, 3), (3, 3)]'''\n",
    "\n",
    "lst = [1, 2, 3]\n",
    "a = [(j, i) for i in range(1, 4) for j in lst]\n",
    "print(a)\n"
   ]
  },
  {
   "cell_type": "code",
   "execution_count": null,
   "metadata": {},
   "outputs": [],
   "source": []
  }
 ],
 "metadata": {
  "kernelspec": {
   "display_name": "Python 3",
   "language": "python",
   "name": "python3"
  },
  "language_info": {
   "codemirror_mode": {
    "name": "ipython",
    "version": 3
   },
   "file_extension": ".py",
   "mimetype": "text/x-python",
   "name": "python",
   "nbconvert_exporter": "python",
   "pygments_lexer": "ipython3",
   "version": "3.8.3"
  }
 },
 "nbformat": 4,
 "nbformat_minor": 4
}
