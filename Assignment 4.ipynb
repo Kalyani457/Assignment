{
 "cells": [
  {
   "cell_type": "code",
   "execution_count": 2,
   "metadata": {},
   "outputs": [
    {
     "name": "stdout",
     "output_type": "stream",
     "text": [
      "Enter value a: 5\n",
      "Enter value b: 6\n",
      "Enter value c: 7\n",
      "14.696938456699069\n"
     ]
    }
   ],
   "source": [
    "'''Write a Python Program(with class concepts) to find the area of the triangle using the below\n",
    "formula.\n",
    "area = (s*(s-a)*(s-b)*(s-c)) ** 0.5\n",
    "Function to take the length of the sides of triangle from user should be defined in the parent\n",
    "class and function to calculate the area should be defined in subclass.'''\n",
    "\n",
    "class Sides():\n",
    "    def __init__(self, a, b, c):\n",
    "        self.a = a\n",
    "        self.b = b\n",
    "        self.c = c\n",
    "\n",
    "class Area(Sides):\n",
    "    def __init__(self, a, b, c):\n",
    "        super().__init__(a, b, c)\n",
    "\n",
    "    def get_area(self):\n",
    "        s = (a + b + c) / 2\n",
    "        area = (s * (s-a) * (s-b) * (s-c)) ** 0.5\n",
    "        return area\n",
    "\n",
    "a= float(input(\"Enter value a: \"))\n",
    "b= float(input(\"Enter value b: \"))\n",
    "c= float(input(\"Enter value c: \"))\n",
    "x = Area(a, b, c)\n",
    "print(x.get_area())\n"
   ]
  },
  {
   "cell_type": "code",
   "execution_count": 21,
   "metadata": {},
   "outputs": [
    {
     "name": "stdout",
     "output_type": "stream",
     "text": [
      "Enter list of words: i am checking the length of list of words\n",
      "['checking', 'length']\n"
     ]
    }
   ],
   "source": [
    "'''2.Write a function filter_long_words() that takes a list of words and an integer n and returns\n",
    "the list of words that are longer than n.'''\n",
    "\n",
    "def filter_long_words(my_list, n):\n",
    "    \n",
    "    return [i for i in my_list if len(i) > n]\n",
    "\n",
    "my_list = input(\"Enter list of words: \").split()\n",
    "n = 5\n",
    "print(filter_long_words(my_list, n))"
   ]
  },
  {
   "cell_type": "code",
   "execution_count": 34,
   "metadata": {},
   "outputs": [
    {
     "name": "stdout",
     "output_type": "stream",
     "text": [
      "[3, 4, 6, 8]\n"
     ]
    }
   ],
   "source": [
    "'''Write a Python program using function concept that maps list of words into a list of integers\n",
    "representing the lengths of the corresponding words.\n",
    "Hint: If a list [ ab,cde,erty] is passed on to the python function output should come as [2,3,4]\n",
    "Here 2,3 and 4 are the lengths of the words in the list.'''\n",
    "\n",
    "def list_of_words(words):\n",
    "    \n",
    "    return [len(i) for i in words]\n",
    "    \n",
    "words = ['abc', 'defg', 'python', 'function']\n",
    "print(list_of_words(words))\n"
   ]
  },
  {
   "cell_type": "code",
   "execution_count": 45,
   "metadata": {},
   "outputs": [
    {
     "name": "stdout",
     "output_type": "stream",
     "text": [
      "Enter any character from A to Z: b\n",
      "False\n"
     ]
    }
   ],
   "source": [
    "'''Write a Python function which takes a character (i.e. a string of length 1) and returns True if\n",
    "it is a vowel, False otherwise.'''\n",
    "\n",
    "def is_vowel(str):\n",
    "    \n",
    "    vowels = 'aeiou'\n",
    "    if str in vowels:\n",
    "        return True\n",
    "    return False\n",
    "    \n",
    "str = input(\"Enter any character from A to Z: \")\n",
    "print(is_vowel(str))"
   ]
  },
  {
   "cell_type": "code",
   "execution_count": null,
   "metadata": {},
   "outputs": [],
   "source": []
  }
 ],
 "metadata": {
  "kernelspec": {
   "display_name": "Python 3",
   "language": "python",
   "name": "python3"
  },
  "language_info": {
   "codemirror_mode": {
    "name": "ipython",
    "version": 3
   },
   "file_extension": ".py",
   "mimetype": "text/x-python",
   "name": "python",
   "nbconvert_exporter": "python",
   "pygments_lexer": "ipython3",
   "version": "3.8.3"
  }
 },
 "nbformat": 4,
 "nbformat_minor": 4
}
